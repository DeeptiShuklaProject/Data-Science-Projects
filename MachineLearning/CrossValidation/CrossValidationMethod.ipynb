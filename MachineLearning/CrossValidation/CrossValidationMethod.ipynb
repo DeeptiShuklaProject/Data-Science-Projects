{
 "cells": [
  {
   "cell_type": "code",
   "execution_count": 3,
   "metadata": {},
   "outputs": [],
   "source": [
    "import pandas as pd\n",
    "import matplotlib.pyplot as plt\n",
    "import seaborn as sns\n",
    "from mlxtend.plotting import plot_decision_regions\n",
    "from sklearn.model_selection import train_test_split"
   ]
  },
  {
   "cell_type": "code",
   "execution_count": 4,
   "metadata": {},
   "outputs": [
    {
     "data": {
      "text/html": [
       "<div>\n",
       "<style scoped>\n",
       "    .dataframe tbody tr th:only-of-type {\n",
       "        vertical-align: middle;\n",
       "    }\n",
       "\n",
       "    .dataframe tbody tr th {\n",
       "        vertical-align: top;\n",
       "    }\n",
       "\n",
       "    .dataframe thead th {\n",
       "        text-align: right;\n",
       "    }\n",
       "</style>\n",
       "<table border=\"1\" class=\"dataframe\">\n",
       "  <thead>\n",
       "    <tr style=\"text-align: right;\">\n",
       "      <th></th>\n",
       "      <th>Age</th>\n",
       "      <th>Experience</th>\n",
       "      <th>Salary</th>\n",
       "    </tr>\n",
       "  </thead>\n",
       "  <tbody>\n",
       "    <tr>\n",
       "      <th>0</th>\n",
       "      <td>50</td>\n",
       "      <td>107</td>\n",
       "      <td>45000</td>\n",
       "    </tr>\n",
       "    <tr>\n",
       "      <th>1</th>\n",
       "      <td>36</td>\n",
       "      <td>69</td>\n",
       "      <td>50000</td>\n",
       "    </tr>\n",
       "    <tr>\n",
       "      <th>2</th>\n",
       "      <td>29</td>\n",
       "      <td>94</td>\n",
       "      <td>60000</td>\n",
       "    </tr>\n",
       "  </tbody>\n",
       "</table>\n",
       "</div>"
      ],
      "text/plain": [
       "   Age  Experience  Salary\n",
       "0   50         107   45000\n",
       "1   36          69   50000\n",
       "2   29          94   60000"
      ]
     },
     "execution_count": 4,
     "metadata": {},
     "output_type": "execute_result"
    }
   ],
   "source": [
    "dataset = pd.read_csv(r\"D:\\\\DataScience\\\\seaborn-data-master\\\\tip.csv\")\n",
    "\n",
    "dataset.head(3)"
   ]
  },
  {
   "cell_type": "code",
   "execution_count": 6,
   "metadata": {},
   "outputs": [],
   "source": [
    "x=dataset.iloc[:,:-1]\n",
    "y=dataset[\"Experience\"]"
   ]
  },
  {
   "cell_type": "code",
   "execution_count": 7,
   "metadata": {},
   "outputs": [],
   "source": [
    "new_data= dataset.head(10)"
   ]
  },
  {
   "cell_type": "code",
   "execution_count": 9,
   "metadata": {},
   "outputs": [],
   "source": [
    "x_new=new_data.iloc[:,:-1]\n",
    "y_new=new_data[\"Experience\"]"
   ]
  },
  {
   "cell_type": "code",
   "execution_count": 8,
   "metadata": {},
   "outputs": [],
   "source": [
    "from sklearn.model_selection import LeaveOneOut,LeavePOut,KFold,StratifiedKFold"
   ]
  },
  {
   "cell_type": "code",
   "execution_count": 10,
   "metadata": {},
   "outputs": [
    {
     "name": "stdout",
     "output_type": "stream",
     "text": [
      "[ 1  2  3  4  5  6  7  8  9 10 11 12 13 14 15] [0]\n",
      "[ 0  2  3  4  5  6  7  8  9 10 11 12 13 14 15] [1]\n",
      "[ 0  1  3  4  5  6  7  8  9 10 11 12 13 14 15] [2]\n",
      "[ 0  1  2  4  5  6  7  8  9 10 11 12 13 14 15] [3]\n",
      "[ 0  1  2  3  5  6  7  8  9 10 11 12 13 14 15] [4]\n",
      "[ 0  1  2  3  4  6  7  8  9 10 11 12 13 14 15] [5]\n",
      "[ 0  1  2  3  4  5  7  8  9 10 11 12 13 14 15] [6]\n",
      "[ 0  1  2  3  4  5  6  8  9 10 11 12 13 14 15] [7]\n",
      "[ 0  1  2  3  4  5  6  7  9 10 11 12 13 14 15] [8]\n",
      "[ 0  1  2  3  4  5  6  7  8 10 11 12 13 14 15] [9]\n",
      "[ 0  1  2  3  4  5  6  7  8  9 11 12 13 14 15] [10]\n",
      "[ 0  1  2  3  4  5  6  7  8  9 10 12 13 14 15] [11]\n",
      "[ 0  1  2  3  4  5  6  7  8  9 10 11 13 14 15] [12]\n",
      "[ 0  1  2  3  4  5  6  7  8  9 10 11 12 14 15] [13]\n",
      "[ 0  1  2  3  4  5  6  7  8  9 10 11 12 13 15] [14]\n",
      "[ 0  1  2  3  4  5  6  7  8  9 10 11 12 13 14] [15]\n"
     ]
    }
   ],
   "source": [
    "lo=LeaveOneOut()\n",
    "for train,test in lo.split(x,y):\n",
    "    print(train,test)"
   ]
  },
  {
   "cell_type": "code",
   "execution_count": 11,
   "metadata": {},
   "outputs": [
    {
     "name": "stdout",
     "output_type": "stream",
     "text": [
      "[ 2  3  4  5  6  7  8  9 10 11 12 13 14 15] [0 1]\n",
      "[ 1  3  4  5  6  7  8  9 10 11 12 13 14 15] [0 2]\n",
      "[ 1  2  4  5  6  7  8  9 10 11 12 13 14 15] [0 3]\n",
      "[ 1  2  3  5  6  7  8  9 10 11 12 13 14 15] [0 4]\n",
      "[ 1  2  3  4  6  7  8  9 10 11 12 13 14 15] [0 5]\n",
      "[ 1  2  3  4  5  7  8  9 10 11 12 13 14 15] [0 6]\n",
      "[ 1  2  3  4  5  6  8  9 10 11 12 13 14 15] [0 7]\n",
      "[ 1  2  3  4  5  6  7  9 10 11 12 13 14 15] [0 8]\n",
      "[ 1  2  3  4  5  6  7  8 10 11 12 13 14 15] [0 9]\n",
      "[ 1  2  3  4  5  6  7  8  9 11 12 13 14 15] [ 0 10]\n",
      "[ 1  2  3  4  5  6  7  8  9 10 12 13 14 15] [ 0 11]\n",
      "[ 1  2  3  4  5  6  7  8  9 10 11 13 14 15] [ 0 12]\n",
      "[ 1  2  3  4  5  6  7  8  9 10 11 12 14 15] [ 0 13]\n",
      "[ 1  2  3  4  5  6  7  8  9 10 11 12 13 15] [ 0 14]\n",
      "[ 1  2  3  4  5  6  7  8  9 10 11 12 13 14] [ 0 15]\n",
      "[ 0  3  4  5  6  7  8  9 10 11 12 13 14 15] [1 2]\n",
      "[ 0  2  4  5  6  7  8  9 10 11 12 13 14 15] [1 3]\n",
      "[ 0  2  3  5  6  7  8  9 10 11 12 13 14 15] [1 4]\n",
      "[ 0  2  3  4  6  7  8  9 10 11 12 13 14 15] [1 5]\n",
      "[ 0  2  3  4  5  7  8  9 10 11 12 13 14 15] [1 6]\n",
      "[ 0  2  3  4  5  6  8  9 10 11 12 13 14 15] [1 7]\n",
      "[ 0  2  3  4  5  6  7  9 10 11 12 13 14 15] [1 8]\n",
      "[ 0  2  3  4  5  6  7  8 10 11 12 13 14 15] [1 9]\n",
      "[ 0  2  3  4  5  6  7  8  9 11 12 13 14 15] [ 1 10]\n",
      "[ 0  2  3  4  5  6  7  8  9 10 12 13 14 15] [ 1 11]\n",
      "[ 0  2  3  4  5  6  7  8  9 10 11 13 14 15] [ 1 12]\n",
      "[ 0  2  3  4  5  6  7  8  9 10 11 12 14 15] [ 1 13]\n",
      "[ 0  2  3  4  5  6  7  8  9 10 11 12 13 15] [ 1 14]\n",
      "[ 0  2  3  4  5  6  7  8  9 10 11 12 13 14] [ 1 15]\n",
      "[ 0  1  4  5  6  7  8  9 10 11 12 13 14 15] [2 3]\n",
      "[ 0  1  3  5  6  7  8  9 10 11 12 13 14 15] [2 4]\n",
      "[ 0  1  3  4  6  7  8  9 10 11 12 13 14 15] [2 5]\n",
      "[ 0  1  3  4  5  7  8  9 10 11 12 13 14 15] [2 6]\n",
      "[ 0  1  3  4  5  6  8  9 10 11 12 13 14 15] [2 7]\n",
      "[ 0  1  3  4  5  6  7  9 10 11 12 13 14 15] [2 8]\n",
      "[ 0  1  3  4  5  6  7  8 10 11 12 13 14 15] [2 9]\n",
      "[ 0  1  3  4  5  6  7  8  9 11 12 13 14 15] [ 2 10]\n",
      "[ 0  1  3  4  5  6  7  8  9 10 12 13 14 15] [ 2 11]\n",
      "[ 0  1  3  4  5  6  7  8  9 10 11 13 14 15] [ 2 12]\n",
      "[ 0  1  3  4  5  6  7  8  9 10 11 12 14 15] [ 2 13]\n",
      "[ 0  1  3  4  5  6  7  8  9 10 11 12 13 15] [ 2 14]\n",
      "[ 0  1  3  4  5  6  7  8  9 10 11 12 13 14] [ 2 15]\n",
      "[ 0  1  2  5  6  7  8  9 10 11 12 13 14 15] [3 4]\n",
      "[ 0  1  2  4  6  7  8  9 10 11 12 13 14 15] [3 5]\n",
      "[ 0  1  2  4  5  7  8  9 10 11 12 13 14 15] [3 6]\n",
      "[ 0  1  2  4  5  6  8  9 10 11 12 13 14 15] [3 7]\n",
      "[ 0  1  2  4  5  6  7  9 10 11 12 13 14 15] [3 8]\n",
      "[ 0  1  2  4  5  6  7  8 10 11 12 13 14 15] [3 9]\n",
      "[ 0  1  2  4  5  6  7  8  9 11 12 13 14 15] [ 3 10]\n",
      "[ 0  1  2  4  5  6  7  8  9 10 12 13 14 15] [ 3 11]\n",
      "[ 0  1  2  4  5  6  7  8  9 10 11 13 14 15] [ 3 12]\n",
      "[ 0  1  2  4  5  6  7  8  9 10 11 12 14 15] [ 3 13]\n",
      "[ 0  1  2  4  5  6  7  8  9 10 11 12 13 15] [ 3 14]\n",
      "[ 0  1  2  4  5  6  7  8  9 10 11 12 13 14] [ 3 15]\n",
      "[ 0  1  2  3  6  7  8  9 10 11 12 13 14 15] [4 5]\n",
      "[ 0  1  2  3  5  7  8  9 10 11 12 13 14 15] [4 6]\n",
      "[ 0  1  2  3  5  6  8  9 10 11 12 13 14 15] [4 7]\n",
      "[ 0  1  2  3  5  6  7  9 10 11 12 13 14 15] [4 8]\n",
      "[ 0  1  2  3  5  6  7  8 10 11 12 13 14 15] [4 9]\n",
      "[ 0  1  2  3  5  6  7  8  9 11 12 13 14 15] [ 4 10]\n",
      "[ 0  1  2  3  5  6  7  8  9 10 12 13 14 15] [ 4 11]\n",
      "[ 0  1  2  3  5  6  7  8  9 10 11 13 14 15] [ 4 12]\n",
      "[ 0  1  2  3  5  6  7  8  9 10 11 12 14 15] [ 4 13]\n",
      "[ 0  1  2  3  5  6  7  8  9 10 11 12 13 15] [ 4 14]\n",
      "[ 0  1  2  3  5  6  7  8  9 10 11 12 13 14] [ 4 15]\n",
      "[ 0  1  2  3  4  7  8  9 10 11 12 13 14 15] [5 6]\n",
      "[ 0  1  2  3  4  6  8  9 10 11 12 13 14 15] [5 7]\n",
      "[ 0  1  2  3  4  6  7  9 10 11 12 13 14 15] [5 8]\n",
      "[ 0  1  2  3  4  6  7  8 10 11 12 13 14 15] [5 9]\n",
      "[ 0  1  2  3  4  6  7  8  9 11 12 13 14 15] [ 5 10]\n",
      "[ 0  1  2  3  4  6  7  8  9 10 12 13 14 15] [ 5 11]\n",
      "[ 0  1  2  3  4  6  7  8  9 10 11 13 14 15] [ 5 12]\n",
      "[ 0  1  2  3  4  6  7  8  9 10 11 12 14 15] [ 5 13]\n",
      "[ 0  1  2  3  4  6  7  8  9 10 11 12 13 15] [ 5 14]\n",
      "[ 0  1  2  3  4  6  7  8  9 10 11 12 13 14] [ 5 15]\n",
      "[ 0  1  2  3  4  5  8  9 10 11 12 13 14 15] [6 7]\n",
      "[ 0  1  2  3  4  5  7  9 10 11 12 13 14 15] [6 8]\n",
      "[ 0  1  2  3  4  5  7  8 10 11 12 13 14 15] [6 9]\n",
      "[ 0  1  2  3  4  5  7  8  9 11 12 13 14 15] [ 6 10]\n",
      "[ 0  1  2  3  4  5  7  8  9 10 12 13 14 15] [ 6 11]\n",
      "[ 0  1  2  3  4  5  7  8  9 10 11 13 14 15] [ 6 12]\n",
      "[ 0  1  2  3  4  5  7  8  9 10 11 12 14 15] [ 6 13]\n",
      "[ 0  1  2  3  4  5  7  8  9 10 11 12 13 15] [ 6 14]\n",
      "[ 0  1  2  3  4  5  7  8  9 10 11 12 13 14] [ 6 15]\n",
      "[ 0  1  2  3  4  5  6  9 10 11 12 13 14 15] [7 8]\n",
      "[ 0  1  2  3  4  5  6  8 10 11 12 13 14 15] [7 9]\n",
      "[ 0  1  2  3  4  5  6  8  9 11 12 13 14 15] [ 7 10]\n",
      "[ 0  1  2  3  4  5  6  8  9 10 12 13 14 15] [ 7 11]\n",
      "[ 0  1  2  3  4  5  6  8  9 10 11 13 14 15] [ 7 12]\n",
      "[ 0  1  2  3  4  5  6  8  9 10 11 12 14 15] [ 7 13]\n",
      "[ 0  1  2  3  4  5  6  8  9 10 11 12 13 15] [ 7 14]\n",
      "[ 0  1  2  3  4  5  6  8  9 10 11 12 13 14] [ 7 15]\n",
      "[ 0  1  2  3  4  5  6  7 10 11 12 13 14 15] [8 9]\n",
      "[ 0  1  2  3  4  5  6  7  9 11 12 13 14 15] [ 8 10]\n",
      "[ 0  1  2  3  4  5  6  7  9 10 12 13 14 15] [ 8 11]\n",
      "[ 0  1  2  3  4  5  6  7  9 10 11 13 14 15] [ 8 12]\n",
      "[ 0  1  2  3  4  5  6  7  9 10 11 12 14 15] [ 8 13]\n",
      "[ 0  1  2  3  4  5  6  7  9 10 11 12 13 15] [ 8 14]\n",
      "[ 0  1  2  3  4  5  6  7  9 10 11 12 13 14] [ 8 15]\n",
      "[ 0  1  2  3  4  5  6  7  8 11 12 13 14 15] [ 9 10]\n",
      "[ 0  1  2  3  4  5  6  7  8 10 12 13 14 15] [ 9 11]\n",
      "[ 0  1  2  3  4  5  6  7  8 10 11 13 14 15] [ 9 12]\n",
      "[ 0  1  2  3  4  5  6  7  8 10 11 12 14 15] [ 9 13]\n",
      "[ 0  1  2  3  4  5  6  7  8 10 11 12 13 15] [ 9 14]\n",
      "[ 0  1  2  3  4  5  6  7  8 10 11 12 13 14] [ 9 15]\n",
      "[ 0  1  2  3  4  5  6  7  8  9 12 13 14 15] [10 11]\n",
      "[ 0  1  2  3  4  5  6  7  8  9 11 13 14 15] [10 12]\n",
      "[ 0  1  2  3  4  5  6  7  8  9 11 12 14 15] [10 13]\n",
      "[ 0  1  2  3  4  5  6  7  8  9 11 12 13 15] [10 14]\n",
      "[ 0  1  2  3  4  5  6  7  8  9 11 12 13 14] [10 15]\n",
      "[ 0  1  2  3  4  5  6  7  8  9 10 13 14 15] [11 12]\n",
      "[ 0  1  2  3  4  5  6  7  8  9 10 12 14 15] [11 13]\n",
      "[ 0  1  2  3  4  5  6  7  8  9 10 12 13 15] [11 14]\n",
      "[ 0  1  2  3  4  5  6  7  8  9 10 12 13 14] [11 15]\n",
      "[ 0  1  2  3  4  5  6  7  8  9 10 11 14 15] [12 13]\n",
      "[ 0  1  2  3  4  5  6  7  8  9 10 11 13 15] [12 14]\n",
      "[ 0  1  2  3  4  5  6  7  8  9 10 11 13 14] [12 15]\n",
      "[ 0  1  2  3  4  5  6  7  8  9 10 11 12 15] [13 14]\n",
      "[ 0  1  2  3  4  5  6  7  8  9 10 11 12 14] [13 15]\n",
      "[ 0  1  2  3  4  5  6  7  8  9 10 11 12 13] [14 15]\n"
     ]
    }
   ],
   "source": [
    "lo=LeavePOut(p=2)\n",
    "for train,test in lo.split(x,y):\n",
    "    print(train,test)"
   ]
  },
  {
   "cell_type": "code",
   "execution_count": 12,
   "metadata": {},
   "outputs": [
    {
     "name": "stdout",
     "output_type": "stream",
     "text": [
      "[ 4  5  6  7  8  9 10 11 12 13 14 15] [0 1 2 3]\n",
      "[ 0  1  2  3  7  8  9 10 11 12 13 14 15] [4 5 6]\n",
      "[ 0  1  2  3  4  5  6 10 11 12 13 14 15] [7 8 9]\n",
      "[ 0  1  2  3  4  5  6  7  8  9 13 14 15] [10 11 12]\n",
      "[ 0  1  2  3  4  5  6  7  8  9 10 11 12] [13 14 15]\n"
     ]
    }
   ],
   "source": [
    "lo=KFold(n_splits=5)\n",
    "for train,test in lo.split(x,y):\n",
    "    print(train,test)"
   ]
  },
  {
   "cell_type": "code",
   "execution_count": null,
   "metadata": {},
   "outputs": [],
   "source": [
    "# lo=StratifiedKFold(n_splits=5)                      #works in classification analysis\n",
    "# for train,test in lo.split(x,y):\n",
    "#     print(train,test)"
   ]
  },
  {
   "cell_type": "code",
   "execution_count": null,
   "metadata": {},
   "outputs": [],
   "source": [
    "#For Check Accuracy "
   ]
  },
  {
   "cell_type": "code",
   "execution_count": 13,
   "metadata": {},
   "outputs": [
    {
     "data": {
      "text/html": [
       "<div>\n",
       "<style scoped>\n",
       "    .dataframe tbody tr th:only-of-type {\n",
       "        vertical-align: middle;\n",
       "    }\n",
       "\n",
       "    .dataframe tbody tr th {\n",
       "        vertical-align: top;\n",
       "    }\n",
       "\n",
       "    .dataframe thead th {\n",
       "        text-align: right;\n",
       "    }\n",
       "</style>\n",
       "<table border=\"1\" class=\"dataframe\">\n",
       "  <thead>\n",
       "    <tr style=\"text-align: right;\">\n",
       "      <th></th>\n",
       "      <th>Age</th>\n",
       "      <th>Experience</th>\n",
       "      <th>Salary</th>\n",
       "    </tr>\n",
       "  </thead>\n",
       "  <tbody>\n",
       "    <tr>\n",
       "      <th>0</th>\n",
       "      <td>50</td>\n",
       "      <td>107</td>\n",
       "      <td>45000</td>\n",
       "    </tr>\n",
       "    <tr>\n",
       "      <th>1</th>\n",
       "      <td>36</td>\n",
       "      <td>69</td>\n",
       "      <td>50000</td>\n",
       "    </tr>\n",
       "    <tr>\n",
       "      <th>2</th>\n",
       "      <td>29</td>\n",
       "      <td>94</td>\n",
       "      <td>60000</td>\n",
       "    </tr>\n",
       "  </tbody>\n",
       "</table>\n",
       "</div>"
      ],
      "text/plain": [
       "   Age  Experience  Salary\n",
       "0   50         107   45000\n",
       "1   36          69   50000\n",
       "2   29          94   60000"
      ]
     },
     "execution_count": 13,
     "metadata": {},
     "output_type": "execute_result"
    }
   ],
   "source": [
    "dataset = pd.read_csv(r\"D:\\\\DataScience\\\\seaborn-data-master\\\\tip.csv\")\n",
    "\n",
    "dataset.head(3)"
   ]
  },
  {
   "cell_type": "code",
   "execution_count": 14,
   "metadata": {},
   "outputs": [],
   "source": [
    "from sklearn.linear_model import LinearRegression"
   ]
  },
  {
   "cell_type": "code",
   "execution_count": 15,
   "metadata": {},
   "outputs": [],
   "source": [
    "from sklearn.model_selection import cross_val_score"
   ]
  },
  {
   "cell_type": "code",
   "execution_count": 20,
   "metadata": {},
   "outputs": [
    {
     "name": "stderr",
     "output_type": "stream",
     "text": [
      "c:\\Users\\admin\\AppData\\Local\\Programs\\Python\\Python312\\Lib\\site-packages\\sklearn\\metrics\\_regression.py:1211: UndefinedMetricWarning: R^2 score is not well-defined with less than two samples.\n",
      "  warnings.warn(msg, UndefinedMetricWarning)\n",
      "c:\\Users\\admin\\AppData\\Local\\Programs\\Python\\Python312\\Lib\\site-packages\\sklearn\\metrics\\_regression.py:1211: UndefinedMetricWarning: R^2 score is not well-defined with less than two samples.\n",
      "  warnings.warn(msg, UndefinedMetricWarning)\n",
      "c:\\Users\\admin\\AppData\\Local\\Programs\\Python\\Python312\\Lib\\site-packages\\sklearn\\metrics\\_regression.py:1211: UndefinedMetricWarning: R^2 score is not well-defined with less than two samples.\n",
      "  warnings.warn(msg, UndefinedMetricWarning)\n",
      "c:\\Users\\admin\\AppData\\Local\\Programs\\Python\\Python312\\Lib\\site-packages\\sklearn\\metrics\\_regression.py:1211: UndefinedMetricWarning: R^2 score is not well-defined with less than two samples.\n",
      "  warnings.warn(msg, UndefinedMetricWarning)\n"
     ]
    },
    {
     "data": {
      "text/plain": [
       "array([ 1.,  1.,  1.,  1.,  1.,  1., nan, nan, nan, nan])"
      ]
     },
     "execution_count": 20,
     "metadata": {},
     "output_type": "execute_result"
    }
   ],
   "source": [
    "p=cross_val_score(LinearRegression(),x,y,cv=KFold(n_splits=10))\n",
    "p"
   ]
  },
  {
   "cell_type": "code",
   "execution_count": 19,
   "metadata": {},
   "outputs": [
    {
     "data": {
      "text/plain": [
       "array([100., 100., 100., 100., 100.])"
      ]
     },
     "execution_count": 19,
     "metadata": {},
     "output_type": "execute_result"
    }
   ],
   "source": [
    "p.sort()\n",
    "p*100"
   ]
  },
  {
   "cell_type": "code",
   "execution_count": null,
   "metadata": {},
   "outputs": [],
   "source": []
  }
 ],
 "metadata": {
  "kernelspec": {
   "display_name": "Python 3",
   "language": "python",
   "name": "python3"
  },
  "language_info": {
   "codemirror_mode": {
    "name": "ipython",
    "version": 3
   },
   "file_extension": ".py",
   "mimetype": "text/x-python",
   "name": "python",
   "nbconvert_exporter": "python",
   "pygments_lexer": "ipython3",
   "version": "3.12.1"
  }
 },
 "nbformat": 4,
 "nbformat_minor": 2
}

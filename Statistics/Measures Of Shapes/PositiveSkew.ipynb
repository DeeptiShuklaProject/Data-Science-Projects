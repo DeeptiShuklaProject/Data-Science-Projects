{
 "cells": [
  {
   "cell_type": "code",
   "execution_count": 1,
   "metadata": {},
   "outputs": [],
   "source": [
    "import numpy as np\n",
    "import pandas as pd\n",
    "import matplotlib.pyplot as plt\n",
    "import seaborn as sns"
   ]
  },
  {
   "cell_type": "code",
   "execution_count": 2,
   "metadata": {},
   "outputs": [
    {
     "data": {
      "text/plain": [
       "array([ 111.61686369,   60.74063855,   25.60600177,  135.36004976,\n",
       "          5.36999435, -103.01386182,   19.32747972,   59.04410789,\n",
       "       -114.90335317, -132.72627069,   28.3304689 ,  186.28061518,\n",
       "        161.27661094,   37.56099811,   64.48065987,  139.21896171,\n",
       "          2.30275567,   63.56893182,    5.44496575,  -59.9393248 ,\n",
       "        -87.6674401 , -126.11067447,  135.84262541,  136.85842799,\n",
       "        146.27275486,   41.82615094,  -77.41590558,  -60.22999534,\n",
       "        -10.71599853, -173.81512293,  -79.81765826,  -69.46447757,\n",
       "        -59.84827272,   20.8179603 ,  -23.88388779,  -12.57783007,\n",
       "         47.97942287,   10.873537  ,    8.91304601,   61.19285761,\n",
       "        -12.01707871,  -61.21916464,  -67.18421624,  -35.64554675,\n",
       "        -93.3273399 ,   51.18334552,  -45.36803797,   42.63609281,\n",
       "        -80.01220857,   73.19992184, -143.28992336,   36.4797465 ,\n",
       "         31.38763035,   77.28430519,   55.55795592,   19.15502012,\n",
       "         31.43014204,  -72.15864698, -199.33260819,   -6.05009197,\n",
       "         49.82771802,  156.92712778,    1.86983009,   -4.32819999,\n",
       "         33.29129125,  -88.53605252,  -52.14249182,   55.07454715,\n",
       "        232.54175606,  -89.56608781,   19.41494009,  -71.10099368,\n",
       "        -93.35687193,  -33.29522706,  130.54137233,  -25.15440857,\n",
       "       -144.92677835,  -66.29279143,  197.88358679,  114.50977923,\n",
       "        -86.39475062,  -23.3396837 ,  104.23484257,   41.06734746,\n",
       "       -140.70313452,    9.38144298,  -72.80863379,   40.38057899,\n",
       "        -57.95716752,  -34.97928672, -111.95758155,  -28.90270958,\n",
       "       -199.65205741,   -7.12038748, -214.40832705,  -79.16772655,\n",
       "        149.58853219,  127.68529186,  -11.72010206, -191.74534353])"
      ]
     },
     "execution_count": 2,
     "metadata": {},
     "output_type": "execute_result"
    }
   ],
   "source": [
    "data = np.random.normal(0,100,100)\n",
    "data"
   ]
  },
  {
   "cell_type": "code",
   "execution_count": 3,
   "metadata": {},
   "outputs": [
    {
     "data": {
      "text/html": [
       "<div>\n",
       "<style scoped>\n",
       "    .dataframe tbody tr th:only-of-type {\n",
       "        vertical-align: middle;\n",
       "    }\n",
       "\n",
       "    .dataframe tbody tr th {\n",
       "        vertical-align: top;\n",
       "    }\n",
       "\n",
       "    .dataframe thead th {\n",
       "        text-align: right;\n",
       "    }\n",
       "</style>\n",
       "<table border=\"1\" class=\"dataframe\">\n",
       "  <thead>\n",
       "    <tr style=\"text-align: right;\">\n",
       "      <th></th>\n",
       "      <th>x</th>\n",
       "    </tr>\n",
       "  </thead>\n",
       "  <tbody>\n",
       "    <tr>\n",
       "      <th>0</th>\n",
       "      <td>111.616864</td>\n",
       "    </tr>\n",
       "    <tr>\n",
       "      <th>1</th>\n",
       "      <td>60.740639</td>\n",
       "    </tr>\n",
       "    <tr>\n",
       "      <th>2</th>\n",
       "      <td>25.606002</td>\n",
       "    </tr>\n",
       "    <tr>\n",
       "      <th>3</th>\n",
       "      <td>135.360050</td>\n",
       "    </tr>\n",
       "    <tr>\n",
       "      <th>4</th>\n",
       "      <td>5.369994</td>\n",
       "    </tr>\n",
       "    <tr>\n",
       "      <th>...</th>\n",
       "      <td>...</td>\n",
       "    </tr>\n",
       "    <tr>\n",
       "      <th>95</th>\n",
       "      <td>-79.167727</td>\n",
       "    </tr>\n",
       "    <tr>\n",
       "      <th>96</th>\n",
       "      <td>149.588532</td>\n",
       "    </tr>\n",
       "    <tr>\n",
       "      <th>97</th>\n",
       "      <td>127.685292</td>\n",
       "    </tr>\n",
       "    <tr>\n",
       "      <th>98</th>\n",
       "      <td>-11.720102</td>\n",
       "    </tr>\n",
       "    <tr>\n",
       "      <th>99</th>\n",
       "      <td>-191.745344</td>\n",
       "    </tr>\n",
       "  </tbody>\n",
       "</table>\n",
       "<p>100 rows × 1 columns</p>\n",
       "</div>"
      ],
      "text/plain": [
       "             x\n",
       "0   111.616864\n",
       "1    60.740639\n",
       "2    25.606002\n",
       "3   135.360050\n",
       "4     5.369994\n",
       "..         ...\n",
       "95  -79.167727\n",
       "96  149.588532\n",
       "97  127.685292\n",
       "98  -11.720102\n",
       "99 -191.745344\n",
       "\n",
       "[100 rows x 1 columns]"
      ]
     },
     "execution_count": 3,
     "metadata": {},
     "output_type": "execute_result"
    }
   ],
   "source": [
    "pd.DataFrame({\"x\":data})"
   ]
  },
  {
   "cell_type": "code",
   "execution_count": 9,
   "metadata": {},
   "outputs": [
    {
     "data": {
      "text/plain": [
       "0.08716657349912778"
      ]
     },
     "execution_count": 9,
     "metadata": {},
     "output_type": "execute_result"
    }
   ],
   "source": [
    "df=pd.DataFrame({\"x\":data})\n",
    "df[\"x\"].skew()"
   ]
  },
  {
   "cell_type": "code",
   "execution_count": 5,
   "metadata": {},
   "outputs": [
    {
     "data": {
      "image/png": "[encoded data removed]",
      "text/plain": [
       "<Figure size 640x480 with 1 Axes>"
      ]
     },
     "metadata": {},
     "output_type": "display_data"
    }
   ],
   "source": [
    "sns.histplot(x=\"x\",data=df)\n",
    "plt.show()\n",
    "#Symmetric Chart"
   ]
  }
 ],
 "metadata": {
  "kernelspec": {
   "display_name": "Python 3",
   "language": "python",
   "name": "python3"
  },
  "language_info": {
   "codemirror_mode": {
    "name": "ipython",
    "version": 3
   },
   "file_extension": ".py",
   "mimetype": "text/x-python",
   "name": "python",
   "nbconvert_exporter": "python",
   "pygments_lexer": "ipython3",
   "version": "3.12.1"
  }
 },
 "nbformat": 4,
 "nbformat_minor": 2
}

{
 "cells": [
  {
   "cell_type": "code",
   "execution_count": 32,
   "metadata": {},
   "outputs": [],
   "source": [
    "import numpy as np\n",
    "import pandas as pd\n",
    "import matplotlib.pyplot as plt\n",
    "import seaborn as sns"
   ]
  },
  {
   "cell_type": "code",
   "execution_count": 33,
   "metadata": {},
   "outputs": [
    {
     "data": {
      "text/plain": [
       "array([  50.5478518 ,  180.5072969 ,   32.55707701,  -79.04747253,\n",
       "        -66.46399673,  -24.53505339,   15.858454  ,   11.7662411 ,\n",
       "         60.68856908,   23.95148348,  -34.36877072,  -90.64241529,\n",
       "       -223.2523526 ,   68.03899275,  -35.01878298, -102.97446168,\n",
       "       -168.6379014 , -124.73318473,   -5.3245395 ,  -47.0956359 ,\n",
       "         62.8394977 ,  -88.18995   ,   85.4213861 , -126.65069039,\n",
       "         40.86205317,   81.82562819,   35.64077705,   59.86768589,\n",
       "        150.74788723, -107.65535069,  -64.62790176,   14.0295062 ,\n",
       "          2.36713907,  -81.19824181,  -37.70956091,   55.34305052,\n",
       "        -56.50792969,   47.97550312,   98.87233569, -116.70329043,\n",
       "        -16.32864273,   -4.55811396,  -62.47046241,   -2.06634747,\n",
       "        -74.8339835 , -169.89635814,    2.34675662,   94.02694679,\n",
       "       -124.58758121,   47.4996018 ,  -85.85352155,  -43.03652929,\n",
       "         -5.06806753,  -92.48937672, -100.02973634,  -85.55142994,\n",
       "       -187.70099104,   60.69340045,   45.83098269,  -94.71048012,\n",
       "          1.77773062, -123.76373273,   24.23195337,   51.67110789,\n",
       "        231.56620558, -154.68842557,   59.91578575,  135.12131553,\n",
       "         -8.20473333,   63.9477546 ,  -49.35186514,   13.39862088,\n",
       "         92.87574028,   30.10750548,  -48.32231576,   60.24805852,\n",
       "        105.21881352,  -63.76049977,  -98.24683156,    2.98937938,\n",
       "         11.46866102,   22.21520067, -194.4868913 , -254.36438166,\n",
       "        134.99110844,   26.0265078 ,    3.8014017 ,  -54.06699821,\n",
       "         -0.6331153 ,  184.56341202,  -46.06838707,   53.45786706,\n",
       "         48.61848714,   20.31237501,  -46.66073131,   -3.28226308,\n",
       "       -159.3477489 ,  -24.57133611,  173.18151901,  -59.01724212])"
      ]
     },
     "execution_count": 33,
     "metadata": {},
     "output_type": "execute_result"
    }
   ],
   "source": [
    "data = np.random.normal(0,100,100)\n",
    "data"
   ]
  },
  {
   "cell_type": "code",
   "execution_count": 34,
   "metadata": {},
   "outputs": [
    {
     "data": {
      "text/html": [
       "<div>\n",
       "<style scoped>\n",
       "    .dataframe tbody tr th:only-of-type {\n",
       "        vertical-align: middle;\n",
       "    }\n",
       "\n",
       "    .dataframe tbody tr th {\n",
       "        vertical-align: top;\n",
       "    }\n",
       "\n",
       "    .dataframe thead th {\n",
       "        text-align: right;\n",
       "    }\n",
       "</style>\n",
       "<table border=\"1\" class=\"dataframe\">\n",
       "  <thead>\n",
       "    <tr style=\"text-align: right;\">\n",
       "      <th></th>\n",
       "      <th>x</th>\n",
       "    </tr>\n",
       "  </thead>\n",
       "  <tbody>\n",
       "    <tr>\n",
       "      <th>0</th>\n",
       "      <td>50.547852</td>\n",
       "    </tr>\n",
       "    <tr>\n",
       "      <th>1</th>\n",
       "      <td>180.507297</td>\n",
       "    </tr>\n",
       "    <tr>\n",
       "      <th>2</th>\n",
       "      <td>32.557077</td>\n",
       "    </tr>\n",
       "    <tr>\n",
       "      <th>3</th>\n",
       "      <td>-79.047473</td>\n",
       "    </tr>\n",
       "    <tr>\n",
       "      <th>4</th>\n",
       "      <td>-66.463997</td>\n",
       "    </tr>\n",
       "    <tr>\n",
       "      <th>...</th>\n",
       "      <td>...</td>\n",
       "    </tr>\n",
       "    <tr>\n",
       "      <th>95</th>\n",
       "      <td>-3.282263</td>\n",
       "    </tr>\n",
       "    <tr>\n",
       "      <th>96</th>\n",
       "      <td>-159.347749</td>\n",
       "    </tr>\n",
       "    <tr>\n",
       "      <th>97</th>\n",
       "      <td>-24.571336</td>\n",
       "    </tr>\n",
       "    <tr>\n",
       "      <th>98</th>\n",
       "      <td>173.181519</td>\n",
       "    </tr>\n",
       "    <tr>\n",
       "      <th>99</th>\n",
       "      <td>-59.017242</td>\n",
       "    </tr>\n",
       "  </tbody>\n",
       "</table>\n",
       "<p>100 rows × 1 columns</p>\n",
       "</div>"
      ],
      "text/plain": [
       "             x\n",
       "0    50.547852\n",
       "1   180.507297\n",
       "2    32.557077\n",
       "3   -79.047473\n",
       "4   -66.463997\n",
       "..         ...\n",
       "95   -3.282263\n",
       "96 -159.347749\n",
       "97  -24.571336\n",
       "98  173.181519\n",
       "99  -59.017242\n",
       "\n",
       "[100 rows x 1 columns]"
      ]
     },
     "execution_count": 34,
     "metadata": {},
     "output_type": "execute_result"
    }
   ],
   "source": [
    "pd.DataFrame({\"x\":data})"
   ]
  },
  {
   "cell_type": "code",
   "execution_count": 35,
   "metadata": {},
   "outputs": [
    {
     "data": {
      "text/plain": [
       "-0.04853916467930193"
      ]
     },
     "execution_count": 35,
     "metadata": {},
     "output_type": "execute_result"
    }
   ],
   "source": [
    "df=pd.DataFrame({\"x\":data})\n",
    "df[\"x\"].skew()"
   ]
  },
  {
   "cell_type": "code",
   "execution_count": 36,
   "metadata": {},
   "outputs": [
    {
     "data": {
      "image/png": "[encoded data removed]",
      "text/plain": [
       "<Figure size 640x480 with 1 Axes>"
      ]
     },
     "metadata": {},
     "output_type": "display_data"
    }
   ],
   "source": [
    "sns.histplot(x=\"x\",data=df)\n",
    "plt.show()"
   ]
  }
 ],
 "metadata": {
  "kernelspec": {
   "display_name": "Python 3",
   "language": "python",
   "name": "python3"
  },
  "language_info": {
   "codemirror_mode": {
    "name": "ipython",
    "version": 3
   },
   "file_extension": ".py",
   "mimetype": "text/x-python",
   "name": "python",
   "nbconvert_exporter": "python",
   "pygments_lexer": "ipython3",
   "version": "3.12.1"
  }
 },
 "nbformat": 4,
 "nbformat_minor": 2
}
